{
 "cells": [
  {
   "cell_type": "markdown",
   "id": "cfee58c7",
   "metadata": {},
   "source": [
    "# Train model"
   ]
  },
  {
   "cell_type": "code",
   "execution_count": 18,
   "id": "cb583efd",
   "metadata": {},
   "outputs": [],
   "source": [
    "import matplotlib.pyplot as plt\n",
    "import tensorflow as tf\n",
    "import numpy as np\n",
    "import torch\n",
    "\n",
    "from load_qm9 import *\n",
    "from display_mol import *\n",
    "\n",
    "#load dataset\n",
    "ds = qm9_load_tfdata()"
   ]
  },
  {
   "cell_type": "markdown",
   "id": "267f393f",
   "metadata": {},
   "source": [
    "## data management and preprocessing"
   ]
  },
  {
   "cell_type": "markdown",
   "id": "b3a47fd9",
   "metadata": {},
   "source": [
    "### Moldecule dataloader for trainning in batchs of equal size"
   ]
  },
  {
   "cell_type": "code",
   "execution_count": null,
   "id": "5ee1d3b9",
   "metadata": {},
   "outputs": [
    {
     "name": "stdout",
     "output_type": "stream",
     "text": [
      "Dataset chargé : 133885 molécules\n",
      "Distribution des tailles : [    0     0     0     2     4     5    12    21    70   193   527  1150\n",
      "  2336  4259  7103 10646 14270 17394 17836 18336 12601 13189  4483  6362\n",
      "   713  1923    59   356     0    35]\n"
     ]
    },
    {
     "data": {
      "text/plain": [
       "'\\n# Afficher le résumé\\nmolecules.print_summary()\\n\\n# Méthode 1 : Génération infinie de batches (pour l\\'entraînement)\\nbatch_gen = molecules.get_batch(batch_size=32, shuffle=True, seed=42)\\n\\n# Obtenir quelques batches\\nfor i in range(5):\\n    batch = next(batch_gen)\\n    print(f\"Batch {i+1}: {batch[\\'N\\'][0]} atomes, shape coords: {batch[\\'coords\\'].shape}\")\\n\\n# Méthode 2 : Une époque complète (chaque molécule vue exactement une fois)\\nprint(\"\\nÉpoque complète:\")\\nfor epoch in range(2):\\n    print(f\"\\nÉpoque {epoch + 1}\")\\n    batch_count = 0\\n    for batch in molecules.get_epoch_batches(batch_size=32, shuffle=True):\\n        batch_count += 1\\n        if batch_count <= 3:  # Afficher les 3 premiers batches\\n            print(f\"  Batch {batch_count}: {batch[\\'N\\'][0]} atomes, {len(batch[\\'N\\'])} molécules\")\\n    print(f\"  Total: {batch_count} batches\")'"
      ]
     },
     "execution_count": 10,
     "metadata": {},
     "output_type": "execute_result"
    }
   ],
   "source": [
    "ATOM_TYPES = [1, 6, 7, 8, 9]\n",
    "MAX_SIZE = 30 # max number of atoms per molecules\n",
    "\n",
    "\n",
    "class MoleculeDataset:\n",
    "    def __init__(self, tf_dataset):\n",
    "        self.ds = tf_dataset\n",
    "        self.molecules_list = list(self.ds.as_numpy_iterator()) # Convertir le dataset en liste pour pouvoir indexer\n",
    "        self.N = tf_dataset.reduce(0, lambda x, _: x + 1).numpy()\n",
    "        self.M_pdf = np.zeros(MAX_SIZE, dtype=np.int32)\n",
    "        self.molecules_by_size = {i: [] for i in range(MAX_SIZE)}\n",
    "        \n",
    "        self._index_molecules()\n",
    "        \n",
    "        print(f\"Dataset chargé : {self.N} molécules\")\n",
    "        print(f\"Distribution des tailles : {self.M_pdf}\")\n",
    "    \n",
    "\n",
    "    def _index_molecules(self):\n",
    "        for idx, example in enumerate(self.molecules_list):\n",
    "            n_atoms = example[1].shape[0]\n",
    "            self.M_pdf[n_atoms] += 1\n",
    "            self.molecules_by_size[n_atoms].append(idx)\n",
    "    \n",
    "    \n",
    "    def get_batch(self, batch_size): \n",
    "        \"\"\"\n",
    "        return generator that give infinite patchs with molecules of equal sizes\n",
    "        \"\"\" \n",
    "        valid_sizes = [M for M in range(MAX_SIZE) if self.M_pdf[M] >= batch_size]\n",
    "\n",
    "        valid_probs = np.array([self.M_pdf[M] for M in valid_sizes])\n",
    "        valid_probs = valid_probs / valid_probs.sum() \n",
    "        \n",
    "        while True:\n",
    "            M = np.random.choice(valid_sizes, p=valid_probs)\n",
    "            \n",
    "            available_indices = self.molecules_by_size[M]\n",
    "            \n",
    "            selected_indices = np.random.choice( # shuffle\n",
    "                    available_indices, \n",
    "                    size=batch_size, \n",
    "                    replace=False\n",
    "                )\n",
    "            \n",
    "            batch = [self.molecules_list[idx] for idx in selected_indices]\n",
    "            \n",
    "            yield self._collate_batch(batch)\n",
    "    \n",
    "    def _collate_batch(self, batch):\n",
    "        \"\"\"\n",
    "        Combine une liste de molécules en un batch.\n",
    "        \"\"\"\n",
    "        x = np.stack([mol[0] for mol in batch], axis=0)\n",
    "        y = np.stack([mol[1] for mol in batch], axis=0)\n",
    "        q = np.stack([mol[2] for mol in batch], axis=0)\n",
    "        \n",
    "        return [x, y, q]\n",
    "    \n",
    "    def get_epoch_batches(self, batch_size):\n",
    "        \"\"\"\n",
    "        Génère des batches pour une époque complète.\n",
    "        Chaque molécule apparaît exactement une fois par époque.\n",
    "        \"\"\"\n",
    "        all_batches = []\n",
    "        \n",
    "        for M in range(MAX_SIZE):\n",
    "            if self.M_pdf[M] == 0:\n",
    "                continue\n",
    "            \n",
    "            indices = self.molecules_by_size[M].copy()\n",
    "            \n",
    "            np.random.shuffle(indices)\n",
    "            \n",
    "            for i in range(0, len(indices), batch_size):\n",
    "                batch_indices = indices[i:i + batch_size]\n",
    "                if len(batch_indices) == batch_size:\n",
    "                    batch = [self.molecules_list[idx] for idx in batch_indices]\n",
    "                    all_batches.append(batch)\n",
    "        \n",
    "        np.random.shuffle(all_batches)\n",
    "        \n",
    "        for batch in all_batches:\n",
    "            yield self._collate_batch(batch)\n",
    "    \n",
    "\n",
    "molecules = MoleculeDataset(ds) # ~1min30\n"
   ]
  },
  {
   "cell_type": "code",
   "execution_count": 13,
   "id": "e7bc5c66",
   "metadata": {},
   "outputs": [
    {
     "name": "stdout",
     "output_type": "stream",
     "text": [
      "[(32, 21, 3), (32, 21), (32, 21)]\n",
      "[(32, 21, 3), (32, 21), (32, 21)]\n",
      "[(32, 18, 3), (32, 18), (32, 18)]\n",
      "[(32, 19, 3), (32, 19), (32, 19)]\n",
      "[(32, 17, 3), (32, 17), (32, 17)]\n"
     ]
    },
    {
     "data": {
      "text/plain": [
       "'\\n# Méthode 2 : Une epoch complète (chaque molécule vue exactement une fois)\\nprint(\"\\\\epoch complète:\")\\nfor epoch in range(2):\\n    print(f\"\\nÉpoque {epoch + 1}\")\\n    batch_count = 0\\n    for batch in molecules.get_epoch_batches(batch_size=32, shuffle=True):\\n        batch_count += 1\\n        if batch_count <= 3:  # Afficher les 3 premiers batches\\n            print(f\"  Batch {batch_count}: {batch[\\'N\\'][0]} atomes, {len(batch[\\'N\\'])} molécules\")\\n    print(f\"  Total: {batch_count} batches\")'"
      ]
     },
     "execution_count": 13,
     "metadata": {},
     "output_type": "execute_result"
    }
   ],
   "source": [
    "\n",
    "\n",
    "# Génération infinie de batches (pour l'entraînement)\n",
    "batch_gen = molecules.get_batch(batch_size=32)\n",
    "\n",
    "for i in range(5):\n",
    "    batch = next(batch_gen)\n",
    "    print([i.shape for i in batch])\n",
    "\n",
    "\"\"\"\n",
    "# Méthode 2 : Une epoch complète (chaque molécule vue exactement une fois)\n",
    "print(\"\\epoch complète:\")\n",
    "for epoch in range(2):\n",
    "    print(f\"\\nÉpoque {epoch + 1}\")\n",
    "    batch_count = 0\n",
    "    for batch in molecules.get_epoch_batches(batch_size=32, shuffle=True):\n",
    "        batch_count += 1\n",
    "        if batch_count <= 3:  # Afficher les 3 premiers batches\n",
    "            print(f\"  Batch {batch_count}: {batch['N'][0]} atomes, {len(batch['N'])} molécules\")\n",
    "    print(f\"  Total: {batch_count} batches\")\"\"\""
   ]
  },
  {
   "cell_type": "markdown",
   "id": "7ef2a13e",
   "metadata": {},
   "source": [
    "### one hot encoding for the molecule shape"
   ]
  },
  {
   "cell_type": "code",
   "execution_count": 22,
   "id": "f4eb04dc",
   "metadata": {},
   "outputs": [
    {
     "name": "stdout",
     "output_type": "stream",
     "text": [
      "[torch.Size([32, 18, 3]), torch.Size([32, 18, 5]), torch.Size([32, 18])]\n",
      "[torch.Size([32, 18, 3]), torch.Size([32, 18]), torch.Size([32, 18])]\n"
     ]
    }
   ],
   "source": [
    "def one_hot_encode(batch):\n",
    "    x = torch.tensor(batch[0], dtype=torch.float32)\n",
    "    e = torch.tensor(batch[1], dtype=torch.long)\n",
    "    q = torch.tensor(batch[2], dtype=torch.float32)\n",
    "    \n",
    "    max_atom_type = max(ATOM_TYPES) + 1\n",
    "    lookup = torch.full((max_atom_type,), -1, dtype=torch.long)\n",
    "    \n",
    "    for idx, atom_type in enumerate(ATOM_TYPES):\n",
    "        lookup[atom_type] = idx\n",
    "    \n",
    "    y_indices = lookup[e]\n",
    "    \n",
    "    assert (y_indices >= 0).all(), \"Types d'atomes inconnus détectés!\"\n",
    "    \n",
    "    \n",
    "    e = torch.nn.functional.one_hot(y_indices, num_classes=len(ATOM_TYPES)).float()\n",
    "    \n",
    "    return [x, e, q]\n",
    "\n",
    "def one_hot_decode(batch):\n",
    "    x = batch[0].clone().detach()\n",
    "    e_onehot = batch[1].clone().detach()\n",
    "    q = batch[2].clone().detach()\n",
    "    \n",
    "    e_indices = torch.argmax(e_onehot, dim=-1)  # (batch_size, n_atoms)\n",
    "    atom_types_tensor = torch.tensor(ATOM_TYPES, dtype=torch.long)\n",
    "    e = atom_types_tensor[e_indices]\n",
    "    \n",
    "    return [x, e, q]\n",
    "\n",
    "\n",
    "\n",
    "def one_hot_decode_stochastic(batch, temperature=1.0):\n",
    "    x = batch[0].clone().detach()\n",
    "    e_soft = batch[1].clone().detach()\n",
    "    q = batch[2].clone().detach()\n",
    "    \n",
    "    # Option 2: Sampling selon les probabilités (stochastic)\n",
    "    e_probs = torch.nn.functional.softmax(e_soft / temperature, dim=-1)\n",
    "    e_indices = torch.multinomial(\n",
    "        e_probs.view(-1, e_probs.size(-1)), \n",
    "        num_samples=1\n",
    "    ).view(e_probs.shape[:-1])\n",
    "    \n",
    "    atom_types_tensor = torch.tensor(ATOM_TYPES, dtype=torch.long)\n",
    "    e = atom_types_tensor[e_indices]\n",
    "    \n",
    "    return [x, e, q]\n",
    "    \n",
    "\n",
    "mol = one_hot_encode(next(batch_gen))   \n",
    "print([e.shape for e in mol])\n",
    "print([e.shape for e in one_hot_decode(mol)])"
   ]
  },
  {
   "cell_type": "markdown",
   "id": "772c71b5",
   "metadata": {},
   "source": [
    "## Model"
   ]
  },
  {
   "cell_type": "code",
   "execution_count": null,
   "id": "3d1f74ae",
   "metadata": {},
   "outputs": [],
   "source": []
  }
 ],
 "metadata": {
  "kernelspec": {
   "display_name": "Python 3",
   "language": "python",
   "name": "python3"
  },
  "language_info": {
   "codemirror_mode": {
    "name": "ipython",
    "version": 3
   },
   "file_extension": ".py",
   "mimetype": "text/x-python",
   "name": "python",
   "nbconvert_exporter": "python",
   "pygments_lexer": "ipython3",
   "version": "3.11.8"
  }
 },
 "nbformat": 4,
 "nbformat_minor": 5
}
