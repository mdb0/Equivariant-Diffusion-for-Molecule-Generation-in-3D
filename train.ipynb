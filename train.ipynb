{
 "cells": [
  {
   "cell_type": "markdown",
   "id": "cfee58c7",
   "metadata": {},
   "source": [
    "# Train model"
   ]
  },
  {
   "cell_type": "code",
   "execution_count": null,
   "id": "cb583efd",
   "metadata": {},
   "outputs": [
    {
     "name": "stdout",
     "output_type": "stream",
     "text": [
      "Using device: cuda:1\n"
     ]
    }
   ],
   "source": [
    "import matplotlib.pyplot as plt\n",
    "import numpy as np\n",
    "import torch\n",
    "\n",
    "from load_qm9 import *\n",
    "from display_mol import *\n",
    "\n",
    "#load dataset\n",
    "ds = qm9_load_torch()\n",
    "\n",
    "device = torch.device(\"cuda:1\" if torch.cuda.is_available() else \"cpu\")\n",
    "print(f\"Using device: {device}\")\n"
   ]
  },
  {
   "cell_type": "code",
   "execution_count": 3,
   "id": "cd9e7168",
   "metadata": {},
   "outputs": [
    {
     "name": "stdout",
     "output_type": "stream",
     "text": [
      "Using existing archive: ./data/QM9/qm9.tar.bz2\n",
      "Parsed 133800/133885 molecules\n",
      "Saved torch list to ./data/QM9/qm9_torch.pt\n"
     ]
    }
   ],
   "source": [
    "qm9_to_torch()"
   ]
  },
  {
   "cell_type": "markdown",
   "id": "267f393f",
   "metadata": {},
   "source": [
    "## data management and preprocessing"
   ]
  },
  {
   "cell_type": "markdown",
   "id": "b3a47fd9",
   "metadata": {},
   "source": [
    "### Moldecule dataloader for trainning in batchs of equal size"
   ]
  },
  {
   "cell_type": "code",
   "execution_count": 2,
   "id": "5ee1d3b9",
   "metadata": {},
   "outputs": [
    {
     "name": "stdout",
     "output_type": "stream",
     "text": [
      "Dataset chargé : 10 molécules\n",
      "Distribution des tailles : [0 0 0 2 3 1 2 1 1 0 0 0 0 0 0 0 0 0 0 0 0 0 0 0 0 0 0 0 0 0]\n"
     ]
    }
   ],
   "source": [
    "ATOM_TYPES = [1, 6, 7, 8, 9]\n",
    "MAX_SIZE = 30 # max number of atoms per molecules\n",
    "\n",
    "\n",
    "class MoleculeDataset:\n",
    "    def __init__(self, dataset):\n",
    "        self.ds = dataset\n",
    "        self.N = len(dataset)\n",
    "        self.M_pdf = np.zeros(MAX_SIZE, dtype=np.int32)\n",
    "        self.molecules_by_size = {i: [] for i in range(MAX_SIZE)}\n",
    "        \n",
    "        self._index_molecules()\n",
    "        \n",
    "        print(f\"Dataset chargé : {self.N} molécules\")\n",
    "        print(f\"Distribution des tailles : {self.M_pdf}\")\n",
    "    \n",
    "\n",
    "    def _index_molecules(self):\n",
    "        for idx, example in enumerate(self.ds):\n",
    "            n_atoms = example[1].shape[0]\n",
    "            self.M_pdf[n_atoms] += 1\n",
    "            self.molecules_by_size[n_atoms].append(idx)\n",
    "    \n",
    "    \n",
    "    def get_batch(self, batch_size): \n",
    "        \"\"\"\n",
    "        return generator that give infinite patchs with molecules of equal sizes\n",
    "        \"\"\" \n",
    "        valid_sizes = [M for M in range(MAX_SIZE) if self.M_pdf[M] >= batch_size]\n",
    "\n",
    "        valid_probs = np.array([self.M_pdf[M] for M in valid_sizes])\n",
    "        valid_probs = valid_probs / valid_probs.sum() \n",
    "        \n",
    "        while True:\n",
    "            M = np.random.choice(valid_sizes, p=valid_probs)\n",
    "            \n",
    "            available_indices = self.molecules_by_size[M]\n",
    "            \n",
    "            selected_indices = np.random.choice( # shuffle\n",
    "                    available_indices, \n",
    "                    size=batch_size, \n",
    "                    replace=False\n",
    "                )\n",
    "            \n",
    "            batch = [self.ds[idx] for idx in selected_indices]\n",
    "            \n",
    "            yield self._collate_batch(batch)\n",
    "    \n",
    "    def _collate_batch(self, batch):\n",
    "        \"\"\"\n",
    "        Combine une liste de molécules en un batch.\n",
    "        \"\"\"\n",
    "        x = torch.stack([mol[0] for mol in batch], dim=0)\n",
    "        y = torch.stack([mol[1] for mol in batch], dim=0)\n",
    "        q = torch.stack([mol[2] for mol in batch], dim=0)\n",
    "        \n",
    "        return [x, y, q]\n",
    "    \n",
    "    def get_epoch_batches(self, batch_size):\n",
    "        \"\"\"\n",
    "        Génère des batches pour une époque complète.\n",
    "        Chaque molécule apparaît exactement une fois par époque.\n",
    "        \"\"\"\n",
    "        all_batches = []\n",
    "        \n",
    "        for M in range(MAX_SIZE):\n",
    "            if self.M_pdf[M] == 0:\n",
    "                continue\n",
    "            \n",
    "            indices = self.molecules_by_size[M].copy()\n",
    "            \n",
    "            np.random.shuffle(indices)\n",
    "            \n",
    "            for i in range(0, len(indices), batch_size):\n",
    "                batch_indices = indices[i:i + batch_size]\n",
    "                if len(batch_indices) == batch_size:\n",
    "                    batch = [self.molecules_list[idx] for idx in batch_indices]\n",
    "                    all_batches.append(batch)\n",
    "        \n",
    "        np.random.shuffle(all_batches)\n",
    "        \n",
    "        for batch in all_batches:\n",
    "            yield self._collate_batch(batch)\n",
    "    \n",
    "\n",
    "molecules = MoleculeDataset(ds) # ~1min30\n"
   ]
  },
  {
   "cell_type": "code",
   "execution_count": 4,
   "id": "e7bc5c66",
   "metadata": {},
   "outputs": [
    {
     "name": "stdout",
     "output_type": "stream",
     "text": [
      "[torch.Size([2, 4, 3]), torch.Size([2, 4]), torch.Size([2, 4])]\n",
      "[torch.Size([2, 3, 3]), torch.Size([2, 3]), torch.Size([2, 3])]\n",
      "[torch.Size([2, 6, 3]), torch.Size([2, 6]), torch.Size([2, 6])]\n",
      "[torch.Size([2, 3, 3]), torch.Size([2, 3]), torch.Size([2, 3])]\n",
      "[torch.Size([2, 3, 3]), torch.Size([2, 3]), torch.Size([2, 3])]\n"
     ]
    }
   ],
   "source": [
    "\n",
    "\n",
    "# Génération infinie de batches (pour l'entraînement)\n",
    "batch_gen = molecules.get_batch(batch_size=2)\n",
    "\n",
    "for i in range(5):\n",
    "    batch = next(batch_gen)\n",
    "    print([i.shape for i in batch])\n"
   ]
  },
  {
   "cell_type": "markdown",
   "id": "7ef2a13e",
   "metadata": {},
   "source": [
    "### one hot encoding for the molecule shape"
   ]
  },
  {
   "cell_type": "code",
   "execution_count": 5,
   "id": "f4eb04dc",
   "metadata": {},
   "outputs": [
    {
     "name": "stdout",
     "output_type": "stream",
     "text": [
      "[torch.Size([2, 3, 3]), torch.Size([2, 3, 5]), torch.Size([2, 3])]\n",
      "[torch.Size([2, 3, 3]), torch.Size([2, 3]), torch.Size([2, 3])]\n"
     ]
    }
   ],
   "source": [
    "def one_hot_encode(batch):\n",
    "    x = batch[0]\n",
    "    x -= torch.mean(x, axis=1)[:, None, :]\n",
    "    e = batch[1]\n",
    "    q = batch[2]\n",
    "    \n",
    "    max_atom_type = max(ATOM_TYPES) + 1\n",
    "    lookup = torch.full((max_atom_type,), -1, dtype=torch.long)\n",
    "    \n",
    "    for idx, atom_type in enumerate(ATOM_TYPES):\n",
    "        lookup[atom_type] = idx\n",
    "    \n",
    "    y_indices = lookup[e]\n",
    "    \n",
    "    assert (y_indices >= 0).all(), \"Types d'atomes inconnus détectés!\"\n",
    "    \n",
    "    \n",
    "    e = torch.nn.functional.one_hot(y_indices, num_classes=len(ATOM_TYPES)).float()\n",
    "    \n",
    "    return [x, e, q]\n",
    "\n",
    "def one_hot_decode(batch):\n",
    "    x = batch[0].clone().detach()\n",
    "    e_onehot = batch[1].clone().detach()\n",
    "    q = batch[2].clone().detach()\n",
    "    \n",
    "    e_indices = torch.argmax(e_onehot, dim=-1)  # (batch_size, n_atoms)\n",
    "    atom_types_tensor = torch.tensor(ATOM_TYPES, dtype=torch.long)\n",
    "    e = atom_types_tensor[e_indices]\n",
    "    \n",
    "    return [x, e, q]\n",
    "\n",
    "\n",
    "\n",
    "def one_hot_decode_stochastic(batch, temperature=1.0):\n",
    "    x = batch[0].clone().detach()\n",
    "    e_soft = batch[1].clone().detach()\n",
    "    q = batch[2].clone().detach()\n",
    "    \n",
    "    # Option 2: Sampling selon les probabilités (stochastic)\n",
    "    e_probs = torch.nn.functional.softmax(e_soft / temperature, dim=-1)\n",
    "    e_indices = torch.multinomial(\n",
    "        e_probs.view(-1, e_probs.size(-1)), \n",
    "        num_samples=1\n",
    "    ).view(e_probs.shape[:-1])\n",
    "    \n",
    "    atom_types_tensor = torch.tensor(ATOM_TYPES, dtype=torch.long)\n",
    "    e = atom_types_tensor[e_indices]\n",
    "    \n",
    "    return [x, e, q]\n",
    "    \n",
    "\n",
    "mol = one_hot_encode(next(batch_gen))   \n",
    "print([e.shape for e in mol])\n",
    "print([e.shape for e in one_hot_decode(mol)])"
   ]
  },
  {
   "cell_type": "markdown",
   "id": "772c71b5",
   "metadata": {},
   "source": [
    "## Model"
   ]
  },
  {
   "cell_type": "code",
   "execution_count": 132,
   "id": "3d1f74ae",
   "metadata": {},
   "outputs": [
    {
     "name": "stdout",
     "output_type": "stream",
     "text": [
      "1/1000{'loss': 2.187464714050293, 'loss_x': 2.011521577835083, 'loss_e': 0.42326468229293823, 'loss_q': 0.7012690305709839}\n",
      "51/1000{'loss': 1.0695466995239258, 'loss_x': 0.9181101322174072, 'loss_e': 0.41534194350242615, 'loss_q': 0.47601088881492615}\n",
      "101/1000{'loss': 1.2479424476623535, 'loss_x': 1.1175674200057983, 'loss_e': 0.3816099762916565, 'loss_q': 0.34972572326660156}\n",
      "151/1000{'loss': 1.0330110788345337, 'loss_x': 0.9324681758880615, 'loss_e': 0.2893443703651428, 'loss_q': 0.28206878900527954}\n",
      "201/1000{'loss': 0.9000480771064758, 'loss_x': 0.8125001788139343, 'loss_e': 0.26353973150253296, 'loss_q': 0.2166295200586319}\n",
      "251/1000{'loss': 0.5610108375549316, 'loss_x': 0.4943680167198181, 'loss_e': 0.2174888402223587, 'loss_q': 0.12270641326904297}\n",
      "301/1000{'loss': 0.7175040245056152, 'loss_x': 0.6488479971885681, 'loss_e': 0.2145121544599533, 'loss_q': 0.15028016269207}\n",
      "351/1000{'loss': 0.6692715287208557, 'loss_x': 0.5955159664154053, 'loss_e': 0.24237897992134094, 'loss_q': 0.1316080093383789}\n",
      "401/1000{'loss': 0.7527099251747131, 'loss_x': 0.6576015949249268, 'loss_e': 0.3200877904891968, 'loss_q': 0.15086348354816437}\n",
      "451/1000{'loss': 0.5849055647850037, 'loss_x': 0.5064237117767334, 'loss_e': 0.26415300369262695, 'loss_q': 0.12443576753139496}\n",
      "501/1000{'loss': 0.7576170563697815, 'loss_x': 0.6726931929588318, 'loss_e': 0.278419554233551, 'loss_q': 0.15318970382213593}\n",
      "551/1000{'loss': 0.5682210922241211, 'loss_x': 0.507663369178772, 'loss_e': 0.1918552815914154, 'loss_q': 0.1259392499923706}\n",
      "601/1000{'loss': 0.411475270986557, 'loss_x': 0.38003697991371155, 'loss_e': 0.09955048561096191, 'loss_q': 0.06550659239292145}\n",
      "651/1000{'loss': 1.294852614402771, 'loss_x': 1.2438743114471436, 'loss_e': 0.14958295226097107, 'loss_q': 0.13582593202590942}\n",
      "701/1000{'loss': 0.8344395160675049, 'loss_x': 0.7086595296859741, 'loss_e': 0.45115402340888977, 'loss_q': 0.12991517782211304}\n",
      "751/1000{'loss': 0.6292275190353394, 'loss_x': 0.5640044212341309, 'loss_e': 0.2015596330165863, 'loss_q': 0.1483319252729416}\n",
      "801/1000{'loss': 0.3746058940887451, 'loss_x': 0.3350546061992645, 'loss_e': 0.13294370472431183, 'loss_q': 0.063153475522995}\n",
      "851/1000{'loss': 0.3443838953971863, 'loss_x': 0.2960333228111267, 'loss_e': 0.16353285312652588, 'loss_q': 0.07467356324195862}\n",
      "901/1000{'loss': 0.5845323204994202, 'loss_x': 0.5244740843772888, 'loss_e': 0.18508899211883545, 'loss_q': 0.13785991072654724}\n",
      "951/1000{'loss': 0.9083200693130493, 'loss_x': 0.8269197940826416, 'loss_e': 0.2530871629714966, 'loss_q': 0.18128536641597748}\n",
      "1000/1000"
     ]
    }
   ],
   "source": [
    "class UltraMagaDiffusion(torch.nn.Module):\n",
    "    def __init__(self):\n",
    "        super(UltraMagaDiffusion, self).__init__()\n",
    "        self.T = 10\n",
    "        s = 1e-5\n",
    "        self.alpha = [(1-2*s)*(1 - (t/self.T))+s for t in range(self.T+1)]\n",
    "        self.omega = [1-alpha**2 for alpha in self.alpha]\n",
    "        self.L = 6\n",
    "        self.lr = 1e-4\n",
    "        self.num_class = len(ATOM_TYPES)\n",
    "\n",
    "        self.init_weight()\n",
    "    \n",
    "    def init_weight(self):\n",
    "        self.phi_e = torch.nn.ModuleList()\n",
    "        self.phi_inf = torch.nn.ModuleList()\n",
    "        self.phi_x = torch.nn.ModuleList()\n",
    "        self.phi_h = torch.nn.ModuleList()\n",
    "\n",
    "        nf = self.num_class + 2  # +2 for atom charge and t/T\n",
    "\n",
    "        for l in range(self.L):\n",
    "            self.phi_e.append(torch.nn.Sequential(\n",
    "                torch.nn.Linear(nf * 2 + 2, nf), \n",
    "                torch.nn.SiLU(),\n",
    "                torch.nn.Linear(nf, nf),\n",
    "                torch.nn.SiLU(),\n",
    "            ))\n",
    "\n",
    "            self.phi_inf.append(torch.nn.Sequential(\n",
    "                torch.nn.Linear(nf, 1),\n",
    "                torch.nn.Sigmoid(),\n",
    "            ))\n",
    "\n",
    "            self.phi_x.append(torch.nn.Sequential(\n",
    "                torch.nn.Linear(nf * 2 + 2, nf),\n",
    "                torch.nn.SiLU(),\n",
    "                torch.nn.Linear(nf, nf),\n",
    "                torch.nn.SiLU(),\n",
    "                torch.nn.Linear(nf, 1),\n",
    "            ))\n",
    "\n",
    "            self.phi_h.append(torch.nn.Sequential(\n",
    "                torch.nn.Linear(nf * 2, nf),\n",
    "                torch.nn.SiLU(),\n",
    "                torch.nn.Linear(nf, nf),\n",
    "            ))\n",
    "        \n",
    "    \n",
    "    def forward(self, mols, t):\n",
    "        (x, e, q) = mols \n",
    "        h = torch.cat([e, q[:, :, None], torch.ones_like(q)[:, :, None]*t[:, :, None]/self.T], dim=-1)\n",
    "        x0 = x.clone()\n",
    "        N = h.shape[1]\n",
    "        diff = x[:, :, None, :] - x[:, None, :, :]   # (B, N, N, 3)\n",
    "        a_ij = torch.sqrt(torch.sum(diff ** 2, dim=-1))[:, :, :, None]  # (B, N, N, 1)\n",
    "        for l in range(self.L):\n",
    "            diff = x[:, :, None, :] - x[:, None, :, :]   # (B, N, N, 3)\n",
    "            d_ij = torch.sqrt(torch.clamp(torch.sum(diff ** 2, dim=-1), min=1e-9))[:, :, :, None]  # (B, N, N, 1) distance squared matrix\n",
    "        \n",
    "            \n",
    "            # compute m_ij\n",
    "            h_i = h[:, :, None, :].expand(-1, N, N, -1)  # (B, N, N, d)\n",
    "            h_j = h[:, None, :, :].expand(-1, N, N, -1)  # (B, N, N, d)\n",
    "\n",
    "            features = torch.cat([h_i, h_j, d_ij, a_ij], dim=-1)  # (B, N, N, 2d+2)\n",
    "            m_ij = self.phi_e[l](features)  # (B, N, N, d)\n",
    "\n",
    "            # compute e_ij\n",
    "            e_ij = self.phi_inf[l](m_ij) # (B, N, N, 1)\n",
    "\n",
    "            # update x\n",
    "            weights = self.phi_x[l](features) * diff / (d_ij + 1.0)  # (B, N, N, 3)\n",
    "            x = x + weights.sum(dim=2)                          # (B, N, 3)\n",
    "            \n",
    "\n",
    "            # update h\n",
    "            mask = ~torch.eye(N, dtype=bool, device=device)[None, :, :, None]  # (1, N, N, 1)\n",
    "            agg = (e_ij * mask * m_ij).sum(dim=2)   # (B, N, d)\n",
    "            h = h + self.phi_h[l](torch.cat([h, agg], dim=-1))   # (B, N, d)\n",
    "    \n",
    "        x = x - x0 # (B, N, 3)\n",
    "        x = x - torch.mean(x, axis=1)[:, None, :] # (B, 1, 3)\n",
    "        e, q = h[:, :, :self.num_class], h[:, :, self.num_class]\n",
    "        return (x, e, q)\n",
    "    \n",
    "\n",
    "    def training_step(self, batch, optimizer):\n",
    "        self.train()\n",
    "        optimizer.zero_grad()\n",
    "\n",
    "        x, e, q = batch\n",
    "        B = x.shape[0]\n",
    "\n",
    "        t = torch.randint(1, self.T + 1, (B, 1), device=device).float() # Random timestep per batch\n",
    "        eps_x = torch.randn_like(x, device=device) # (B, N, 3)\n",
    "        eps_e = torch.randn_like(e, device=device) # (B, N, D)\n",
    "        eps_q = torch.randn_like(q, device=device) # (B, N)\n",
    "\n",
    "        # Diffusion step: add noise to x0\n",
    "        alpha_t = torch.tensor(self.alpha)[t.long()].view(B, 1, 1)\n",
    "        omega_t = torch.sqrt(torch.tensor(self.omega))[t.long()].view(B, 1, 1)\n",
    "        x_t = alpha_t * x + omega_t * eps_x\n",
    "        e_t = alpha_t * e + omega_t * eps_e\n",
    "        q_t = alpha_t.squeeze(-1) * q + omega_t.squeeze(-1) * eps_q\n",
    "\n",
    "        # Predict denoised offset (model learns to predict ε)\n",
    "        eps_x_pred, eps_e_pred, eps_q_pred = self.forward((x_t, e_t, q_t), t)\n",
    "        \n",
    "        # Reconstruction loss (denoising loss)\n",
    "        loss_x = torch.nn.functional.mse_loss(eps_x_pred, eps_x)\n",
    "        loss_e = torch.nn.functional.mse_loss(eps_e_pred, eps_e)\n",
    "        loss_q = torch.nn.functional.mse_loss(eps_q_pred, eps_q)\n",
    "\n",
    "        loss = loss_x + 0.25 * loss_e + 0.1 * loss_q # coef from the paper\n",
    "        loss.backward()\n",
    "        #print(\"====3debug :\", torch.max(loss))\n",
    "        optimizer.step()\n",
    "        #print(\"====3debug :\", torch.max(self.phi_x[0][0].weight))\n",
    "\n",
    "        return {\n",
    "            'loss': loss.detach().cpu().item(),\n",
    "            'loss_x': loss_x.detach().cpu().item(),\n",
    "            'loss_e': loss_e.detach().cpu().item(),\n",
    "            'loss_q': loss_q.detach().cpu().item(),\n",
    "        }\n",
    "\n",
    "\n",
    "    @torch.no_grad()\n",
    "    def sample(self, batch_size, N):\n",
    "        self.eval()\n",
    "\n",
    "        # Initialize x_T from Gaussian noise\n",
    "        x = torch.randn(batch_size, N, 3, device=device)\n",
    "        e = torch.randn(batch_size, N, self.num_class, device=device)\n",
    "        q = torch.randn(batch_size, N, device=device)\n",
    "\n",
    "        for t in reversed(range(1, self.T + 1)):\n",
    "            t_tensor = torch.full((batch_size, 1), t, device=device).float()\n",
    "            dx, de, dq = self.forward((x, e, q), t_tensor)\n",
    "\n",
    "            # Compute coefficients\n",
    "            alpha_t = torch.tensor(self.alpha[t], device=device).view(1, 1, 1)\n",
    "            omega_t = torch.tensor(self.omega[t], device=device).view(1, 1, 1)\n",
    "            alpha_s = torch.tensor(self.alpha[t-1], device=device).view(1, 1, 1)\n",
    "            omega_s = torch.tensor(self.omega[t-1], device=device).view(1, 1, 1)\n",
    "\n",
    "            alpha_ts = alpha_t/alpha_s\n",
    "            omega_ts = omega_t - alpha_ts**2 * omega_s\n",
    "            omega_t_s = torch.sqrt(omega_ts * omega_s / omega_t)\n",
    "            # Reverse diffusion step\n",
    "            eps_x = torch.randn_like(x, device=device) if t > 1 else 0.0\n",
    "            eps_e = torch.randn_like(e, device=device) if t > 1 else 0.0\n",
    "            eps_q = torch.randn_like(q, device=device) if t > 1 else 0.0\n",
    "            x = x / alpha_s - omega_ts/(alpha_ts*torch.sqrt(omega_t)) * dx + omega_t_s * eps_x\n",
    "            e = e / alpha_s - omega_ts/(alpha_ts*torch.sqrt(omega_t)) * de + omega_t_s * eps_e\n",
    "            q = q / alpha_s.squeeze(-1) - (omega_ts/(alpha_ts*torch.sqrt(omega_t))).squeeze(-1) * dq + omega_t_s.squeeze(-1) * eps_q\n",
    "        return x, e, q\n",
    "\n",
    "\n",
    "\n",
    "\n",
    "model = UltraMagaDiffusion().to(device)\n",
    "optimizer = torch.optim.Adam(model.parameters(), lr=model.lr)\n",
    "batch_gen = molecules.get_batch(batch_size=8)\n",
    "#torch.autograd.set_detect_anomaly(True)\n",
    "max_iter = 1000\n",
    "loss = []\n",
    "for i in range(max_iter):\n",
    "    batch = one_hot_encode(next(batch_gen))\n",
    "    batch = [v.to(device) for v in batch]\n",
    "    logs = model.training_step(batch, optimizer)\n",
    "    print(f\"\\r{i+1}/{max_iter}\", end=\"\")\n",
    "    if i % 50 == 0: \n",
    "        print(logs)\n",
    "    loss += [logs['loss']]\n",
    "\n",
    "# Sampling\n",
    "#x_gen, e_gen, q_gen = model.sample(batch_size=8, N=9)\n"
   ]
  },
  {
   "cell_type": "code",
   "execution_count": 138,
   "id": "9240d919",
   "metadata": {},
   "outputs": [
    {
     "data": {
      "text/plain": [
       "<matplotlib.legend.Legend at 0x28418d15650>"
      ]
     },
     "execution_count": 138,
     "metadata": {},
     "output_type": "execute_result"
    },
    {
     "data": {
      "image/png": "[encoded data removed]",
      "text/plain": [
       "<Figure size 640x480 with 1 Axes>"
      ]
     },
     "metadata": {},
     "output_type": "display_data"
    }
   ],
   "source": [
    "plt.plot(np.log(loss), label='batch loss')\n",
    "beta = 0.97\n",
    "ema = []\n",
    "avg = loss[0]\n",
    "for l in loss:\n",
    "    avg = beta * avg + (1 - beta) * l\n",
    "    ema.append(avg)\n",
    "plt.plot(np.log(ema), '--', label='smooth loss')\n",
    "\n",
    "plt.legend()"
   ]
  },
  {
   "cell_type": "code",
   "execution_count": 139,
   "id": "5ed2f8b6",
   "metadata": {},
   "outputs": [
    {
     "name": "stdout",
     "output_type": "stream",
     "text": [
      "[tensor([[ 18524.5664,  -3934.9062, -20215.8789],\n",
      "        [ 72818.5234,  78064.5312,  15990.0527],\n",
      "        [  5942.9834,   8034.6289,  16868.9609],\n",
      "        [ 15109.0469, -12889.0547, -36668.6719],\n",
      "        [ -4835.9844, -48572.7031,  56357.1562],\n",
      "        [-44493.6875,   4677.9155, -24702.7656],\n",
      "        [-44591.5391, -26179.7578,  31752.8320],\n",
      "        [ -2997.1992, -50943.6250, -13416.5957],\n",
      "        [-10115.0547,  41370.1016, -23311.5742]]), tensor([7, 8, 7, 8, 6, 8, 7, 7, 7]), tensor([446320.6250,  69409.1641, 146524.8594, 499849.5000, 592265.7500,\n",
      "        484633.8438, 588854.6250, 302829.6562, 345756.9062])]\n"
     ]
    },
    {
     "data": {
      "text/plain": [
       "(<Figure size 1000x800 with 1 Axes>, <Axes3D: title={'center': 'Molécule'}>)"
      ]
     },
     "execution_count": 139,
     "metadata": {},
     "output_type": "execute_result"
    },
    {
     "data": {
      "image/png": "[encoded data removed]",
      "text/plain": [
       "<Figure size 1000x800 with 1 Axes>"
      ]
     },
     "metadata": {},
     "output_type": "display_data"
    }
   ],
   "source": [
    "s = model.sample(1, 9)\n",
    "mol = one_hot_decode([a[0] for a in s])\n",
    "print(mol)\n",
    "plot_molecule(mol_to_dict(mol))"
   ]
  },
  {
   "cell_type": "code",
   "execution_count": 175,
   "id": "987a173f",
   "metadata": {},
   "outputs": [
    {
     "name": "stdout",
     "output_type": "stream",
     "text": [
      "tensor([[-1.1802,  0.0835, -0.4008],\n",
      "        [-0.3624,  0.0591, -0.0611],\n",
      "        [-0.0640, -0.2194, -0.9211],\n",
      "        [ 0.5618, -0.2695, -0.9018],\n",
      "        [ 0.4162, -0.4533, -0.2435],\n",
      "        [ 0.1294, -0.6383, -0.2600],\n",
      "        [ 0.7418,  1.2580,  0.2723],\n",
      "        [ 0.4349,  0.6983, -0.2727],\n",
      "        [ 1.2629,  0.5637, -0.5720],\n",
      "        [-0.2131,  0.5665, -0.3350],\n",
      "        [-1.3773,  0.4386, -1.1850],\n",
      "        [-1.2911,  0.8213, -0.2287],\n",
      "        [ 0.7361,  0.2024, -0.8502],\n",
      "        [-0.3354,  0.5611, -0.6685],\n",
      "        [-0.2677, -0.1450, -1.5288],\n",
      "        [ 1.0290, -0.1349, -1.1501],\n",
      "        [ 0.4175, -0.1825, -0.5657],\n",
      "        [-1.2800, -0.2702,  0.7170],\n",
      "        [ 1.5395,  0.7550, -0.7361]])\n"
     ]
    }
   ],
   "source": [
    "with torch.no_grad():\n",
    "    batch = one_hot_encode(next(batch_gen))\n",
    "    x, e, q = batch\n",
    "    B = x.shape[0]\n",
    "\n",
    "    t = torch.randint(5, 5 + 1, (B, 1), device=device).float() # Random timestep per batch\n",
    "    eps_x = torch.randn_like(x, device=device) # (B, N, 3)\n",
    "    eps_e = torch.randn_like(e, device=device) # (B, N, D)\n",
    "    eps_q = torch.randn_like(q, device=device) # (B, N)\n",
    "\n",
    "    # Diffusion step: add noise to x0\n",
    "    alpha_t = torch.tensor(model.alpha)[t.long()].view(B, 1, 1)\n",
    "    omega_t = torch.sqrt(torch.tensor(model.omega))[t.long()].view(B, 1, 1)\n",
    "    x_t = alpha_t * x + omega_t * eps_x\n",
    "    e_t = alpha_t * e + omega_t * eps_e\n",
    "    q_t = alpha_t.squeeze(-1) * q + omega_t.squeeze(-1) * eps_q\n",
    "\n",
    "    # Predict denoised offset (model learns to predict ε)\n",
    "    eps_x_pred, eps_e_pred, eps_q_pred = model.forward((x_t, e_t, q_t), t)\n",
    "    print(eps_x_pred[0]-eps_x[0])"
   ]
  }
 ],
 "metadata": {
  "kernelspec": {
   "display_name": "main_kilian_3.10",
   "language": "python",
   "name": "python3"
  },
  "language_info": {
   "codemirror_mode": {
    "name": "ipython",
    "version": 3
   },
   "file_extension": ".py",
   "mimetype": "text/x-python",
   "name": "python",
   "nbconvert_exporter": "python",
   "pygments_lexer": "ipython3",
   "version": "3.10.16"
  }
 },
 "nbformat": 4,
 "nbformat_minor": 5
}
